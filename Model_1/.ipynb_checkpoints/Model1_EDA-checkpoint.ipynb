{
 "cells": [
  {
   "cell_type": "markdown",
   "id": "ffe09842-6946-4505-a380-501a64d40878",
   "metadata": {},
   "source": [
    "#### In this notebook I will create model 1. This model will improve on, feature engieering, model performance, data balancing & deployment I/O (csv)\n",
    "## The workflow for this notebook will be as follows: \n",
    "\n",
    "* Cleaning \n",
    "* EDA \n",
    "     * Bivariate  \n",
    "     * Multivariate \n",
    "* Feature engineering\n",
    "     * Aggregate columns features \n",
    "     * NLP for text columns\n",
    " \n",
    "* Balancing Data Using over Sampling Technique (SMOTE) \n",
    "\n",
    "* Model Selection\n",
    "    * LogisticRegression\n",
    "    * SVC\n",
    "    * RandomForestClassifier\n",
    "    * GradientBoostingClassifier\n",
    "    * KNeighborsClassifier()\n",
    "    * MultinomialNB()\n",
    "    * GradientBoostingClassifier()\n",
    "    * Hyperparamter tunning (GS)\n",
    "    \n",
    "* Model Build and train \n",
    "* Serialize for deployment"
   ]
  },
  {
   "cell_type": "code",
   "execution_count": null,
   "id": "fc0586bb-8391-4b60-b129-b757a3c3f320",
   "metadata": {},
   "outputs": [],
   "source": []
  }
 ],
 "metadata": {
  "kernelspec": {
   "display_name": "Python 3 (ipykernel)",
   "language": "python",
   "name": "python3"
  },
  "language_info": {
   "codemirror_mode": {
    "name": "ipython",
    "version": 3
   },
   "file_extension": ".py",
   "mimetype": "text/x-python",
   "name": "python",
   "nbconvert_exporter": "python",
   "pygments_lexer": "ipython3",
   "version": "3.10.6"
  }
 },
 "nbformat": 4,
 "nbformat_minor": 5
}
