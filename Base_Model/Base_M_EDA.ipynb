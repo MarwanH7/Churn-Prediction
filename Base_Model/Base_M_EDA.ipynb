{
 "cells": [
  {
   "cell_type": "markdown",
   "id": "dd31a24c-fda2-44c4-a48d-4f48cfbcc95a",
   "metadata": {},
   "source": [
    "#### In this notebook & Base_Model.ipynb I will create my first base model. This model will be a minial viable product end to end. The workflow for this notebook will be as follows \n",
    "\n",
    "* Cleaning\n",
    "* EDA \n",
    "     * Univariate (base model) \n",
    "* Simple feature engineering\n",
    "     * Dummy Variables \n",
    "* Model Selection\n",
    "    *Logistic Regression \n",
    "    * Hyperparamter tunning (GS)\n",
    "    \n",
    "* Model Build and train \n",
    "* Serialize for deployment"
   ]
  },
  {
   "cell_type": "code",
   "execution_count": 75,
   "id": "47dde89c-c863-43ad-98b7-8c9e19453844",
   "metadata": {},
   "outputs": [],
   "source": [
    "#import the required libraries\n",
    "import numpy as np \n",
    "import pandas as pd \n",
    "import seaborn as sns \n",
    "import matplotlib.ticker as mtick  \n",
    "import matplotlib.pyplot as plt\n",
    "from matplotlib.ticker import PercentFormatter\n",
    "import matplotlib.patches as mpatches\n",
    "%matplotlib inline"
   ]
  },
  {
   "cell_type": "code",
   "execution_count": 76,
   "id": "e9f44d38-d87d-41c5-b7d0-f859ded4ea2a",
   "metadata": {},
   "outputs": [],
   "source": [
    "df = pd.read_csv('Telco-Customer-Churn.csv')"
   ]
  },
  {
   "cell_type": "markdown",
   "id": "5191b88b-1729-4ccf-a8cb-13f0161d7c89",
   "metadata": {
    "jp-MarkdownHeadingCollapsed": true,
    "tags": []
   },
   "source": [
    "### Initial brief data  exploration "
   ]
  },
  {
   "cell_type": "code",
   "execution_count": null,
   "id": "81fd4910-2083-49de-ae43-3afe73999c41",
   "metadata": {},
   "outputs": [],
   "source": [
    "df.head()"
   ]
  },
  {
   "cell_type": "code",
   "execution_count": null,
   "id": "abbedfa9-8a95-4654-aa98-d7b816a5175e",
   "metadata": {},
   "outputs": [],
   "source": [
    "df.shape"
   ]
  },
  {
   "cell_type": "code",
   "execution_count": null,
   "id": "f06377ff-4e87-4249-b3d7-16027a078606",
   "metadata": {},
   "outputs": [],
   "source": [
    "df.columns.values"
   ]
  },
  {
   "cell_type": "code",
   "execution_count": null,
   "id": "e70296fa-c406-4f06-9171-6881c4deb871",
   "metadata": {},
   "outputs": [],
   "source": [
    "df.dtypes"
   ]
  },
  {
   "cell_type": "code",
   "execution_count": null,
   "id": "ec59ec2e-79f7-49bd-a54d-b22b91ca1e87",
   "metadata": {},
   "outputs": [],
   "source": [
    "df.info()"
   ]
  },
  {
   "cell_type": "code",
   "execution_count": null,
   "id": "46830c48-4bc4-49f6-82f4-03647435976f",
   "metadata": {},
   "outputs": [],
   "source": [
    "#No null values, but we can't really tell with some of the object data types becuse they can just have empty space columns or 0 and will be identified as null "
   ]
  },
  {
   "cell_type": "code",
   "execution_count": null,
   "id": "761f455d-0a9e-4cdb-abbe-189644128262",
   "metadata": {},
   "outputs": [],
   "source": [
    "# Numerical Category description\n",
    "df.describe()"
   ]
  },
  {
   "cell_type": "markdown",
   "id": "bb1eed03-7520-4f2e-983b-b2d279531625",
   "metadata": {},
   "source": [
    "* Tenure spans from 0 - 72 months (0 - 6years)\n",
    "* SeniorCitizen seems to be a binary feature (0 or 1), and it makes sense given it's description. It's also highly unbalanced, as at least 75% percent of it's values are set to 0.\n",
    "* 75% of customers have been with the company for 55 months \n",
    "* Average monthly charges is 64 dollars, and 75% of customers pay 89 dollars per month \n",
    "* **note that Total monthly charges didn't show up in numerical as its an object type. Will look into it later**"
   ]
  },
  {
   "cell_type": "code",
   "execution_count": null,
   "id": "165eb2a0-0872-48be-89b7-48a25e04c92a",
   "metadata": {},
   "outputs": [],
   "source": [
    "# Categorical Category description"
   ]
  },
  {
   "cell_type": "code",
   "execution_count": null,
   "id": "bf873bbc-721f-4fbb-a83a-615c2342e473",
   "metadata": {},
   "outputs": [],
   "source": [
    "df.describe(include=\"O\").T"
   ]
  },
  {
   "cell_type": "markdown",
   "id": "2fcf1c27-ac0f-48e1-843b-69f869014abb",
   "metadata": {},
   "source": [
    "* All object features have low cardinality. This indicates that those are categorical features. \n",
    "* Most are unbalanced \n",
    "* Totalchagres has empty values 11 times. (Will look into it more) "
   ]
  },
  {
   "cell_type": "markdown",
   "id": "16c762f2-ef67-4474-a755-03ad989b5479",
   "metadata": {
    "jp-MarkdownHeadingCollapsed": true,
    "tags": []
   },
   "source": [
    "## Data Cleaning "
   ]
  },
  {
   "cell_type": "code",
   "execution_count": 84,
   "id": "cedd0317-87f9-49bc-b509-10942fbddcd2",
   "metadata": {},
   "outputs": [],
   "source": [
    "df1 = df.copy()"
   ]
  },
  {
   "cell_type": "code",
   "execution_count": 85,
   "id": "70acd049-6e50-4a27-b25a-c21f32bdd4ec",
   "metadata": {},
   "outputs": [
    {
     "data": {
      "text/plain": [
       "customerID           0\n",
       "gender               0\n",
       "SeniorCitizen        0\n",
       "Partner              0\n",
       "Dependents           0\n",
       "tenure               0\n",
       "PhoneService         0\n",
       "MultipleLines        0\n",
       "InternetService      0\n",
       "OnlineSecurity       0\n",
       "OnlineBackup         0\n",
       "DeviceProtection     0\n",
       "TechSupport          0\n",
       "StreamingTV          0\n",
       "StreamingMovies      0\n",
       "Contract             0\n",
       "PaperlessBilling     0\n",
       "PaymentMethod        0\n",
       "MonthlyCharges       0\n",
       "TotalCharges        11\n",
       "Churn                0\n",
       "dtype: int64"
      ]
     },
     "execution_count": 85,
     "metadata": {},
     "output_type": "execute_result"
    }
   ],
   "source": [
    "# Total charges to numeric \n",
    "df1.TotalCharges = pd.to_numeric(df1.TotalCharges, errors='coerce')\n",
    "df1.isnull().sum()"
   ]
  },
  {
   "cell_type": "code",
   "execution_count": 86,
   "id": "1f243de5-cb62-4c9b-8049-7a719a433dc7",
   "metadata": {},
   "outputs": [],
   "source": [
    "# only 15% of data are nulls so ill drop it. \n",
    "df1.dropna(how = 'any', inplace = True)"
   ]
  },
  {
   "cell_type": "code",
   "execution_count": 87,
   "id": "026cc179-8eef-4f0e-b435-f19bffafdda5",
   "metadata": {},
   "outputs": [
    {
     "data": {
      "text/plain": [
       "customerID          0\n",
       "gender              0\n",
       "SeniorCitizen       0\n",
       "Partner             0\n",
       "Dependents          0\n",
       "tenure              0\n",
       "PhoneService        0\n",
       "MultipleLines       0\n",
       "InternetService     0\n",
       "OnlineSecurity      0\n",
       "OnlineBackup        0\n",
       "DeviceProtection    0\n",
       "TechSupport         0\n",
       "StreamingTV         0\n",
       "StreamingMovies     0\n",
       "Contract            0\n",
       "PaperlessBilling    0\n",
       "PaymentMethod       0\n",
       "MonthlyCharges      0\n",
       "TotalCharges        0\n",
       "Churn               0\n",
       "dtype: int64"
      ]
     },
     "execution_count": 87,
     "metadata": {},
     "output_type": "execute_result"
    }
   ],
   "source": [
    "df1.isnull().sum()"
   ]
  },
  {
   "cell_type": "code",
   "execution_count": 88,
   "id": "42320ff2-e364-4b07-8ba9-102ff660c6ef",
   "metadata": {},
   "outputs": [],
   "source": [
    "# Replacing categorical columns with repeated 'No' \n",
    "df1.replace('No internet service','No',inplace=True)\n",
    "df1.replace('No phone service','No',inplace=True)"
   ]
  },
  {
   "cell_type": "code",
   "execution_count": null,
   "id": "353c84e7-6d4d-4380-b6ab-c543241665ae",
   "metadata": {},
   "outputs": [],
   "source": [
    "# # Dropping unecessary columns\n",
    "# df1.drop(columns= ['customerID'], axis=1, inplace=True)"
   ]
  },
  {
   "cell_type": "code",
   "execution_count": 92,
   "id": "751368f9-9bdb-4ab1-a640-733fec9a30e0",
   "metadata": {},
   "outputs": [
    {
     "data": {
      "text/plain": [
       "customerID           object\n",
       "gender               object\n",
       "SeniorCitizen         int64\n",
       "Partner              object\n",
       "Dependents           object\n",
       "tenure                int64\n",
       "PhoneService         object\n",
       "MultipleLines        object\n",
       "InternetService      object\n",
       "OnlineSecurity       object\n",
       "OnlineBackup         object\n",
       "DeviceProtection     object\n",
       "TechSupport          object\n",
       "StreamingTV          object\n",
       "StreamingMovies      object\n",
       "Contract             object\n",
       "PaperlessBilling     object\n",
       "PaymentMethod        object\n",
       "MonthlyCharges      float64\n",
       "TotalCharges        float64\n",
       "Churn                object\n",
       "dtype: object"
      ]
     },
     "execution_count": 92,
     "metadata": {},
     "output_type": "execute_result"
    }
   ],
   "source": [
    "df1.dtypes"
   ]
  },
  {
   "cell_type": "code",
   "execution_count": 93,
   "id": "a0615d32-10b8-44e0-9d45-cf83e9675180",
   "metadata": {},
   "outputs": [],
   "source": [
    "df1.to_csv('Cleaned1_Data.csv')"
   ]
  },
  {
   "cell_type": "markdown",
   "id": "49d9999c-b146-43e0-8b0f-42cf72f32266",
   "metadata": {
    "tags": []
   },
   "source": [
    "## Exploratory Data Analysis (Univariate)\n",
    "* Categorical ()\n",
    "* Numerical ()"
   ]
  },
  {
   "cell_type": "markdown",
   "id": "c124e8f6-add8-445f-81c5-098efa2585ab",
   "metadata": {
    "jp-MarkdownHeadingCollapsed": true,
    "tags": []
   },
   "source": [
    "#### Defining functions for my plots. \n",
    "\n",
    "I will use a A Pareto plot is a type of chart that contains both bars and a line graph, where individual values are represented in descending order by bars, and the cumulative total is represented by a line\n",
    "\n",
    "\n",
    "\n",
    "\n"
   ]
  },
  {
   "cell_type": "code",
   "execution_count": null,
   "id": "9d15b450-f4b1-40ef-8a95-9238b5ace963",
   "metadata": {},
   "outputs": [],
   "source": [
    "# Pareto \n",
    "def pareto_plot(x, data, ax=None):\n",
    "    counts_df = data.groupby(x).size().to_frame(\"count\").sort_values(\"count\", ascending=False)\n",
    "    counts_df[\"cumperc\"] = counts_df[\"count\"].cumsum() / counts_df[\"count\"].sum() * 100\n",
    "    counts_df.index = counts_df.index.astype(str)\n",
    "\n",
    "    if ax is None:\n",
    "        _, ax = plt.subplots(figsize=(15, 6))\n",
    "\n",
    "    ax.bar(counts_df.index, counts_df[\"count\"], color=\"steelblue\")\n",
    "    for p, v in zip(ax.patches, counts_df[\"count\"].values):\n",
    "        v_str = str(v)\n",
    "        p_width = p.get_width()\n",
    "        p_x = p.get_x()\n",
    "        ax.annotate(v_str, (p_x + p_width / 2, 50), ha=\"center\", fontsize=12, color=\"white\", weight=\"bold\")\n",
    "    ax.set_xlabel(x)\n",
    "    ax.set_ylabel(\"Count\")\n",
    "\n",
    "    ax2 = ax.twinx()\n",
    "    ax2.plot(counts_df.index, counts_df[\"cumperc\"], color=\"darkorange\", marker=\"D\", ms=8, lw=2)\n",
    "    ax2.yaxis.set_major_formatter(PercentFormatter())\n",
    "    for (x, y), v in zip(zip(counts_df.index, counts_df[\"cumperc\"]), counts_df[\"cumperc\"].values):\n",
    "        ax2.annotate(f\"{v:0.2f}%\", (x, y + 5), ha=\"center\", fontsize=12, color=\"maroon\", weight=\"bold\")\n",
    "    ax2.set_ylim([0, 120])\n",
    "    ax2.set_ylabel(\"Cumulative Frequency\")"
   ]
  },
  {
   "cell_type": "code",
   "execution_count": null,
   "id": "2bfb541c-0869-454f-b58c-9611400acaa1",
   "metadata": {},
   "outputs": [],
   "source": [
    "sns.set_context(\"paper\")"
   ]
  },
  {
   "cell_type": "code",
   "execution_count": null,
   "id": "9989add8-43fa-49b9-9771-549f716c6211",
   "metadata": {},
   "outputs": [],
   "source": [
    "def plot_stacked_percentages_plot(feature, data, ax=None):\n",
    "    if ax is None:\n",
    "        _, ax = plt.subplots(figsize=(15, 7))\n",
    "        \n",
    "    aux_df = data.groupby(feature)[\"Churn\"].size().to_frame(\"total\")\n",
    "    aux_df[\"total_percent\"] = 100\n",
    "    aux_df[\"churned\"] = data[data.Churn == \"Yes\"].groupby(feature).size()\n",
    "    aux_df[\"not_churned\"] = aux_df.total - aux_df.churned\n",
    "    aux_df[\"churned_percent\"] = np.round(aux_df.churned / aux_df.total * 100, 2)\n",
    "    aux_df[\"not_churned_percent\"] = np.round(aux_df.not_churned / aux_df.total * 100, 2)\n",
    "    aux_df[\"churned_bar_height\"] = aux_df.churned_percent / 2\n",
    "    aux_df[\"not_churned_bar_height\"] = aux_df.not_churned_percent / 2 + aux_df.churned_percent\n",
    "    \n",
    "    sns.barplot(x=aux_df.index, y=\"total_percent\", data=aux_df, color=\"green\", ax=ax)\n",
    "    sns.barplot(x=aux_df.index, y=\"churned_percent\", data=aux_df, color=\"red\", ax=ax)\n",
    "    \n",
    "    aux = np.concatenate([aux_df[[\"churned_percent\", \"churned_bar_height\"]].values, aux_df[[\"not_churned_percent\", \"not_churned_bar_height\"]].values], axis=0)\n",
    "    for p, (percent, height) in zip(ax.patches, aux):\n",
    "        width = p.get_width()\n",
    "        x = p.get_x()\n",
    "        ax.annotate(f\"{percent}%\", (x + width / 2, height), ha=\"center\", va=\"center\", fontsize=12, color=\"white\", weight=\"bold\")\n",
    "    \n",
    "    top_bar = mpatches.Patch(color=\"green\", label=\"No\")\n",
    "    bottom_bar = mpatches.Patch(color=\"red\", label=\"Yes\")\n",
    "    ax.legend(handles=[top_bar, bottom_bar], loc=\"upper right\", title=\"Churn\")\n",
    "    ax.set_ylabel(\"% Churn\")\n"
   ]
  },
  {
   "cell_type": "code",
   "execution_count": null,
   "id": "2f2be8a9-7c86-4383-97b3-825ee80993cd",
   "metadata": {},
   "outputs": [],
   "source": [
    "def plot_categorical_feature(feature, data, rotate_xticks=False):\n",
    "    _, (ax1, ax2) = plt.subplots(ncols=2, figsize=(15, 5))\n",
    "    pareto_plot(x=feature, data=data, ax=ax1)\n",
    "    \n",
    "    plot_stacked_percentages_plot(feature=feature, data=data, ax=ax2)\n",
    "    \n",
    "    if rotate_xticks:\n",
    "        ax1.tick_params(axis=\"x\", labelrotation=45)\n",
    "        ax2.tick_params(axis=\"x\", labelrotation=45)\n",
    "    \n",
    "    plt.suptitle(f\"{feature} Feature Distribution\")\n",
    "    plt.tight_layout()"
   ]
  },
  {
   "cell_type": "markdown",
   "id": "1a817edc-b692-4912-b5d4-f8de58563d3c",
   "metadata": {
    "jp-MarkdownHeadingCollapsed": true,
    "tags": []
   },
   "source": [
    "### Univariate Catergorical analysis [features with respect to Chrun target variable]"
   ]
  },
  {
   "cell_type": "code",
   "execution_count": null,
   "id": "a3ef1f6d-95bf-469b-838c-13cf5905a788",
   "metadata": {},
   "outputs": [],
   "source": [
    "plot_categorical_feature(feature=\"SeniorCitizen\", data=df1)"
   ]
  },
  {
   "cell_type": "code",
   "execution_count": null,
   "id": "b414c3c0-4d0a-4316-817d-e5034369d89c",
   "metadata": {},
   "outputs": [],
   "source": [
    "plot_categorical_feature(feature=\"Partner\", data=df1)"
   ]
  },
  {
   "cell_type": "code",
   "execution_count": null,
   "id": "b547cb13-544d-4abf-b109-64810637d01d",
   "metadata": {},
   "outputs": [],
   "source": [
    "plot_categorical_feature(feature=\"Dependents\", data=df1)"
   ]
  },
  {
   "cell_type": "code",
   "execution_count": null,
   "id": "3ef0b897-1926-4a47-978f-09ad4dae32d1",
   "metadata": {},
   "outputs": [],
   "source": [
    "plot_categorical_feature(feature=\"PhoneService\", data=df1)"
   ]
  },
  {
   "cell_type": "code",
   "execution_count": null,
   "id": "63cfc5e6-8108-4030-b3e0-e4075845c3a0",
   "metadata": {},
   "outputs": [],
   "source": [
    "plot_categorical_feature(feature=\"MultipleLines\", data=df1)"
   ]
  },
  {
   "cell_type": "code",
   "execution_count": null,
   "id": "12c587f8-55d2-4973-9419-f0fca50960c5",
   "metadata": {},
   "outputs": [],
   "source": [
    "plot_categorical_feature(feature=\"InternetService\", data=df1)"
   ]
  },
  {
   "cell_type": "code",
   "execution_count": null,
   "id": "06e180c6-d1b4-4184-9bc4-18c832f4780f",
   "metadata": {},
   "outputs": [],
   "source": [
    "plot_categorical_feature(feature=\"OnlineSecurity\", data=df1)"
   ]
  },
  {
   "cell_type": "code",
   "execution_count": null,
   "id": "950afbba-1586-4aff-bb75-915bebdb6577",
   "metadata": {},
   "outputs": [],
   "source": [
    "plot_categorical_feature(feature=\"OnlineBackup\", data=df1)"
   ]
  },
  {
   "cell_type": "code",
   "execution_count": null,
   "id": "ed3d3d54-fe79-4f10-8065-3772343914eb",
   "metadata": {},
   "outputs": [],
   "source": [
    "plot_categorical_feature(feature=\"DeviceProtection\", data=df1)"
   ]
  },
  {
   "cell_type": "code",
   "execution_count": null,
   "id": "babd80be-d888-4a74-90ff-0d07aab32b69",
   "metadata": {},
   "outputs": [],
   "source": [
    "plot_categorical_feature(feature=\"TechSupport\", data=df1)"
   ]
  },
  {
   "cell_type": "code",
   "execution_count": null,
   "id": "ad8a4131-d9e8-4e54-bf59-b3787342a93d",
   "metadata": {},
   "outputs": [],
   "source": [
    "plot_categorical_feature(feature=\"StreamingTV\", data=df1)"
   ]
  },
  {
   "cell_type": "code",
   "execution_count": null,
   "id": "15d7bd5e-6f05-4c6c-b824-470177afcdf9",
   "metadata": {},
   "outputs": [],
   "source": [
    "plot_categorical_feature(feature=\"Contract\", data=df1)"
   ]
  },
  {
   "cell_type": "code",
   "execution_count": null,
   "id": "48899168-6773-49d9-8235-f23e34fffe29",
   "metadata": {},
   "outputs": [],
   "source": [
    "plot_categorical_feature(feature=\"PaperlessBilling\", data=df1)"
   ]
  },
  {
   "cell_type": "code",
   "execution_count": null,
   "id": "1c242a50-8e28-424e-aded-e7437efd2872",
   "metadata": {},
   "outputs": [],
   "source": [
    "plot_categorical_feature(feature=\"PaymentMethod\", data=df1)"
   ]
  },
  {
   "cell_type": "code",
   "execution_count": null,
   "id": "bb4f6dea-4af3-46e2-9332-350681d9bb94",
   "metadata": {},
   "outputs": [],
   "source": [
    "# plot_categorical_feature(feature=\"tenure\", data=df1)"
   ]
  },
  {
   "cell_type": "markdown",
   "id": "63e27ae8-8959-4307-8ab8-6b4bc02685ab",
   "metadata": {
    "jp-MarkdownHeadingCollapsed": true,
    "tags": []
   },
   "source": [
    "### Univariate Numerical analysis [features with respect to Chrun target variable]"
   ]
  },
  {
   "cell_type": "code",
   "execution_count": null,
   "id": "bfe67ad5-b090-4792-8039-31712c8f889c",
   "metadata": {},
   "outputs": [],
   "source": [
    "#Tenure as a group for analysis\n",
    "\n",
    "df_T_G = df.copy()\n",
    "\n",
    "# Group the tenure in bins of 12 months\n",
    "labels = [\"{0} - {1}\".format(i, i + 11) for i in range(1, 72, 12)]\n",
    "\n",
    "df_T_G['tenure_group'] = pd.cut(df_T_G.tenure, range(1, 80, 12), right=False, labels=labels)\n",
    "\n",
    "\n",
    "df_T_G['tenure_group'].value_counts()"
   ]
  },
  {
   "cell_type": "code",
   "execution_count": null,
   "id": "c86c37c7-8173-40d8-b81f-f7e34d1b5346",
   "metadata": {},
   "outputs": [],
   "source": [
    "def plot_numerical_feature(feature, data):\n",
    "    _, (ax1, ax2) = plt.subplots(ncols=2, figsize=(15, 6))\n",
    "    sns.histplot(x=feature, data=data, hue=\"Churn\", ax=ax1, multiple=\"stack\")\n",
    "    sns.boxplot(x=\"Churn\", y=feature, data=data, ax=ax2)\n",
    "    plt.suptitle(f\"{feature} Feature Distribution\")"
   ]
  },
  {
   "cell_type": "code",
   "execution_count": null,
   "id": "ce188fd3-c76c-4b4b-b1a3-cb7cdf4d0455",
   "metadata": {},
   "outputs": [],
   "source": [
    "plot_numerical_feature(\"tenure\", data=df1)"
   ]
  },
  {
   "cell_type": "code",
   "execution_count": null,
   "id": "ea4a2140-82c2-4b05-bea0-37b7eaa78d7a",
   "metadata": {},
   "outputs": [],
   "source": [
    "plot_numerical_feature(\"MonthlyCharges\", data=df1)"
   ]
  },
  {
   "cell_type": "code",
   "execution_count": null,
   "id": "b5b7bf50-6036-46cd-ad2c-3146daa339a9",
   "metadata": {},
   "outputs": [],
   "source": [
    "plot_numerical_feature(\"TotalCharges\", data=df1)"
   ]
  },
  {
   "cell_type": "code",
   "execution_count": null,
   "id": "f1162f06-e719-406a-8c60-8dffe4fc9364",
   "metadata": {},
   "outputs": [],
   "source": [
    "# Corr of all Features with Churn \n",
    "df1"
   ]
  },
  {
   "cell_type": "code",
   "execution_count": null,
   "id": "be9e9a1d-16e2-4086-a064-74dbdc64f647",
   "metadata": {},
   "outputs": [],
   "source": [
    "## Categorical to numerical \n",
    "df1['Churn'] = np.where(df1.Churn == 'Yes',1,0)"
   ]
  },
  {
   "cell_type": "code",
   "execution_count": null,
   "id": "8be86530-f05a-4eb2-b644-b443dbcbd4cc",
   "metadata": {},
   "outputs": [],
   "source": [
    "## Categorical to numerical \n",
    "df1_encod = pd.get_dummies(df1)"
   ]
  },
  {
   "cell_type": "code",
   "execution_count": null,
   "id": "bcb6afb9-8d76-497a-8d65-08ee2e04ce51",
   "metadata": {},
   "outputs": [],
   "source": [
    "plt.figure(figsize=(20,8))\n",
    "df1_encod.corr()['Churn'].sort_values(ascending = False).plot(kind='bar')"
   ]
  },
  {
   "cell_type": "code",
   "execution_count": null,
   "id": "63659b80-3adf-4613-93f9-f1b55172711f",
   "metadata": {},
   "outputs": [],
   "source": [
    "df1_encod"
   ]
  },
  {
   "cell_type": "markdown",
   "id": "09bfbb27-8f40-44ad-87ed-9fefb65a8beb",
   "metadata": {},
   "source": [
    "* HIGH Churn seen in case of Month to month contracts, No online security, No Tech support, First year of subscription and Fibre Optics Internet\n",
    "\n",
    "* LOW Churn is seens in case of Long term contracts, Subscriptions without internet service and The customers engaged for 5+ years\n",
    "\n",
    "* Factors like Gender, Availability of PhoneService and # of multiple lines have alomost NO impact on Churn"
   ]
  },
  {
   "cell_type": "code",
   "execution_count": null,
   "id": "71c7e89a-07ba-4d78-9d2e-6a200747fc2d",
   "metadata": {},
   "outputs": [],
   "source": [
    "df1_encod.to_csv('Data_Set_EDA_1.csv')"
   ]
  }
 ],
 "metadata": {
  "kernelspec": {
   "display_name": "Rosseta",
   "language": "python",
   "name": "rosseta"
  },
  "language_info": {
   "codemirror_mode": {
    "name": "ipython",
    "version": 3
   },
   "file_extension": ".py",
   "mimetype": "text/x-python",
   "name": "python",
   "nbconvert_exporter": "python",
   "pygments_lexer": "ipython3",
   "version": "3.10.4"
  }
 },
 "nbformat": 4,
 "nbformat_minor": 5
}
